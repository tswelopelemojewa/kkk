{
 "cells": [
  {
   "cell_type": "code",
   "execution_count": 1,
   "id": "462ab6fa",
   "metadata": {},
   "outputs": [],
   "source": [
    "# Import necessary libraries\n",
    "import numpy as np\n",
    "import pandas as pd\n",
    "import matplotlib.pyplot as plt\n",
    "import seaborn as sns\n",
    "from sklearn.model_selection import train_test_split\n",
    "from sklearn.preprocessing import StandardScaler\n",
    "from sklearn.ensemble import AdaBoostClassifier\n",
    "from sklearn.svm import SVC\n",
    "from sklearn.tree import DecisionTreeClassifier\n",
    "from sklearn.ensemble import ExtraTreesClassifier, RandomForestClassifier, AdaBoostClassifier\n",
    "from sklearn.preprocessing import StandardScaler, LabelEncoder\n",
    "from sklearn.metrics import accuracy_score, f1_score, recall_score, precision_score, roc_auc_score\n",
    "from sklearn.metrics import confusion_matrix, ConfusionMatrixDisplay, mean_squared_error, r2_score\n",
    "from xgboost import XGBClassifier\n",
    "from sklearn.neural_network import MLPClassifier\n",
    "import lightgbm as lgb\n",
    "from imblearn.over_sampling import ADASYN\n",
    "from sklearn.metrics import roc_auc_score, matthews_corrcoef\n",
    "import pickle"
   ]
  },
  {
   "cell_type": "code",
   "execution_count": 2,
   "id": "8cffefc7",
   "metadata": {
    "scrolled": true
   },
   "outputs": [
    {
     "data": {
      "text/html": [
       "<div>\n",
       "<style scoped>\n",
       "    .dataframe tbody tr th:only-of-type {\n",
       "        vertical-align: middle;\n",
       "    }\n",
       "\n",
       "    .dataframe tbody tr th {\n",
       "        vertical-align: top;\n",
       "    }\n",
       "\n",
       "    .dataframe thead th {\n",
       "        text-align: right;\n",
       "    }\n",
       "</style>\n",
       "<table border=\"1\" class=\"dataframe\">\n",
       "  <thead>\n",
       "    <tr style=\"text-align: right;\">\n",
       "      <th></th>\n",
       "      <th>1.Delay in delivering material to construction site</th>\n",
       "      <th>2.Shortage of laborers and equpment</th>\n",
       "      <th>15.Cash flow problem during construction</th>\n",
       "      <th>20.Errors and omission in design</th>\n",
       "      <th>28.Poor communication between client, consultant and contractor</th>\n",
       "      <th>31.Change schedule</th>\n",
       "      <th>33.Lowest bid price</th>\n",
       "      <th>38.Scope and specification changes</th>\n",
       "      <th>42.Weather conditions</th>\n",
       "      <th>43.Accidents during construction</th>\n",
       "    </tr>\n",
       "  </thead>\n",
       "  <tbody>\n",
       "    <tr>\n",
       "      <th>0</th>\n",
       "      <td>1</td>\n",
       "      <td>1</td>\n",
       "      <td>1</td>\n",
       "      <td>3</td>\n",
       "      <td>2</td>\n",
       "      <td>1</td>\n",
       "      <td>2.0</td>\n",
       "      <td>3</td>\n",
       "      <td>2</td>\n",
       "      <td>2</td>\n",
       "    </tr>\n",
       "    <tr>\n",
       "      <th>1</th>\n",
       "      <td>2</td>\n",
       "      <td>2</td>\n",
       "      <td>2</td>\n",
       "      <td>5</td>\n",
       "      <td>4</td>\n",
       "      <td>4</td>\n",
       "      <td>5.0</td>\n",
       "      <td>3</td>\n",
       "      <td>1</td>\n",
       "      <td>1</td>\n",
       "    </tr>\n",
       "    <tr>\n",
       "      <th>2</th>\n",
       "      <td>1</td>\n",
       "      <td>2</td>\n",
       "      <td>3</td>\n",
       "      <td>2</td>\n",
       "      <td>1</td>\n",
       "      <td>3</td>\n",
       "      <td>2.0</td>\n",
       "      <td>2</td>\n",
       "      <td>1</td>\n",
       "      <td>1</td>\n",
       "    </tr>\n",
       "    <tr>\n",
       "      <th>3</th>\n",
       "      <td>2</td>\n",
       "      <td>4</td>\n",
       "      <td>1</td>\n",
       "      <td>4</td>\n",
       "      <td>2</td>\n",
       "      <td>2</td>\n",
       "      <td>2.0</td>\n",
       "      <td>4</td>\n",
       "      <td>4</td>\n",
       "      <td>3</td>\n",
       "    </tr>\n",
       "    <tr>\n",
       "      <th>4</th>\n",
       "      <td>1</td>\n",
       "      <td>2</td>\n",
       "      <td>4</td>\n",
       "      <td>2</td>\n",
       "      <td>1</td>\n",
       "      <td>3</td>\n",
       "      <td>2.0</td>\n",
       "      <td>2</td>\n",
       "      <td>1</td>\n",
       "      <td>1</td>\n",
       "    </tr>\n",
       "    <tr>\n",
       "      <th>...</th>\n",
       "      <td>...</td>\n",
       "      <td>...</td>\n",
       "      <td>...</td>\n",
       "      <td>...</td>\n",
       "      <td>...</td>\n",
       "      <td>...</td>\n",
       "      <td>...</td>\n",
       "      <td>...</td>\n",
       "      <td>...</td>\n",
       "      <td>...</td>\n",
       "    </tr>\n",
       "    <tr>\n",
       "      <th>138</th>\n",
       "      <td>5</td>\n",
       "      <td>5</td>\n",
       "      <td>5</td>\n",
       "      <td>5</td>\n",
       "      <td>4</td>\n",
       "      <td>4</td>\n",
       "      <td>4.0</td>\n",
       "      <td>5</td>\n",
       "      <td>4</td>\n",
       "      <td>4</td>\n",
       "    </tr>\n",
       "    <tr>\n",
       "      <th>139</th>\n",
       "      <td>3</td>\n",
       "      <td>4</td>\n",
       "      <td>2</td>\n",
       "      <td>4</td>\n",
       "      <td>3</td>\n",
       "      <td>4</td>\n",
       "      <td>4.0</td>\n",
       "      <td>3</td>\n",
       "      <td>3</td>\n",
       "      <td>3</td>\n",
       "    </tr>\n",
       "    <tr>\n",
       "      <th>140</th>\n",
       "      <td>3</td>\n",
       "      <td>3</td>\n",
       "      <td>2</td>\n",
       "      <td>3</td>\n",
       "      <td>2</td>\n",
       "      <td>4</td>\n",
       "      <td>4.0</td>\n",
       "      <td>4</td>\n",
       "      <td>3</td>\n",
       "      <td>3</td>\n",
       "    </tr>\n",
       "    <tr>\n",
       "      <th>141</th>\n",
       "      <td>3</td>\n",
       "      <td>3</td>\n",
       "      <td>2</td>\n",
       "      <td>3</td>\n",
       "      <td>2</td>\n",
       "      <td>4</td>\n",
       "      <td>4.0</td>\n",
       "      <td>4</td>\n",
       "      <td>3</td>\n",
       "      <td>3</td>\n",
       "    </tr>\n",
       "    <tr>\n",
       "      <th>142</th>\n",
       "      <td>2</td>\n",
       "      <td>3</td>\n",
       "      <td>4</td>\n",
       "      <td>2</td>\n",
       "      <td>2</td>\n",
       "      <td>3</td>\n",
       "      <td>3.0</td>\n",
       "      <td>4</td>\n",
       "      <td>2</td>\n",
       "      <td>2</td>\n",
       "    </tr>\n",
       "  </tbody>\n",
       "</table>\n",
       "<p>143 rows × 10 columns</p>\n",
       "</div>"
      ],
      "text/plain": [
       "     1.Delay in delivering material to construction site  \\\n",
       "0                                                    1     \n",
       "1                                                    2     \n",
       "2                                                    1     \n",
       "3                                                    2     \n",
       "4                                                    1     \n",
       "..                                                 ...     \n",
       "138                                                  5     \n",
       "139                                                  3     \n",
       "140                                                  3     \n",
       "141                                                  3     \n",
       "142                                                  2     \n",
       "\n",
       "     2.Shortage of laborers and equpment  \\\n",
       "0                                      1   \n",
       "1                                      2   \n",
       "2                                      2   \n",
       "3                                      4   \n",
       "4                                      2   \n",
       "..                                   ...   \n",
       "138                                    5   \n",
       "139                                    4   \n",
       "140                                    3   \n",
       "141                                    3   \n",
       "142                                    3   \n",
       "\n",
       "     15.Cash flow problem during construction  \\\n",
       "0                                           1   \n",
       "1                                           2   \n",
       "2                                           3   \n",
       "3                                           1   \n",
       "4                                           4   \n",
       "..                                        ...   \n",
       "138                                         5   \n",
       "139                                         2   \n",
       "140                                         2   \n",
       "141                                         2   \n",
       "142                                         4   \n",
       "\n",
       "     20.Errors and omission in design  \\\n",
       "0                                   3   \n",
       "1                                   5   \n",
       "2                                   2   \n",
       "3                                   4   \n",
       "4                                   2   \n",
       "..                                ...   \n",
       "138                                 5   \n",
       "139                                 4   \n",
       "140                                 3   \n",
       "141                                 3   \n",
       "142                                 2   \n",
       "\n",
       "     28.Poor communication between client, consultant and contractor  \\\n",
       "0                                                    2                 \n",
       "1                                                    4                 \n",
       "2                                                    1                 \n",
       "3                                                    2                 \n",
       "4                                                    1                 \n",
       "..                                                 ...                 \n",
       "138                                                  4                 \n",
       "139                                                  3                 \n",
       "140                                                  2                 \n",
       "141                                                  2                 \n",
       "142                                                  2                 \n",
       "\n",
       "     31.Change schedule  33.Lowest bid price  \\\n",
       "0                     1                  2.0   \n",
       "1                     4                  5.0   \n",
       "2                     3                  2.0   \n",
       "3                     2                  2.0   \n",
       "4                     3                  2.0   \n",
       "..                  ...                  ...   \n",
       "138                   4                  4.0   \n",
       "139                   4                  4.0   \n",
       "140                   4                  4.0   \n",
       "141                   4                  4.0   \n",
       "142                   3                  3.0   \n",
       "\n",
       "     38.Scope and specification changes   42.Weather conditions  \\\n",
       "0                                      3                      2   \n",
       "1                                      3                      1   \n",
       "2                                      2                      1   \n",
       "3                                      4                      4   \n",
       "4                                      2                      1   \n",
       "..                                   ...                    ...   \n",
       "138                                    5                      4   \n",
       "139                                    3                      3   \n",
       "140                                    4                      3   \n",
       "141                                    4                      3   \n",
       "142                                    4                      2   \n",
       "\n",
       "     43.Accidents during construction  \n",
       "0                                   2  \n",
       "1                                   1  \n",
       "2                                   1  \n",
       "3                                   3  \n",
       "4                                   1  \n",
       "..                                ...  \n",
       "138                                 4  \n",
       "139                                 3  \n",
       "140                                 3  \n",
       "141                                 3  \n",
       "142                                 2  \n",
       "\n",
       "[143 rows x 10 columns]"
      ]
     },
     "execution_count": 2,
     "metadata": {},
     "output_type": "execute_result"
    }
   ],
   "source": [
    "# Load your dataset (replace 'your_dataset.csv' with your data)\n",
    "data = pd.read_excel(r'Road_Constuction_Delay_Survey.xlsx')\n",
    "# data = pd.read_csv('.\\Road_Constuction_Delay_Survey.csv')\n",
    "\n",
    "data"
   ]
  },
  {
   "cell_type": "code",
   "execution_count": 3,
   "id": "52176630",
   "metadata": {
    "scrolled": false
   },
   "outputs": [
    {
     "data": {
      "text/plain": [
       "Index(['1.Delay in delivering material to construction site',\n",
       "       '2.Shortage of laborers and equpment',\n",
       "       '15.Cash flow problem during construction',\n",
       "       '20.Errors and omission in design',\n",
       "       '28.Poor communication between client, consultant and contractor',\n",
       "       '31.Change schedule', '33.Lowest bid price',\n",
       "       '38.Scope and specification changes ', '42.Weather conditions',\n",
       "       '43.Accidents during construction'],\n",
       "      dtype='object')"
      ]
     },
     "execution_count": 3,
     "metadata": {},
     "output_type": "execute_result"
    }
   ],
   "source": [
    "data.columns"
   ]
  },
  {
   "cell_type": "code",
   "execution_count": 4,
   "id": "f92f431f",
   "metadata": {},
   "outputs": [],
   "source": [
    "# ax = data.value_counts().sort_index() \\\n",
    "#     .plot(kind='bar',\n",
    "#           title='Jr values value count',\n",
    "#           figsize=(10, 5))\n",
    "# ax.set_xlabel('Jw values')\n",
    "# plt.show()"
   ]
  },
  {
   "cell_type": "code",
   "execution_count": 5,
   "id": "0e852622",
   "metadata": {},
   "outputs": [
    {
     "data": {
      "text/plain": [
       "1.Delay in delivering material to construction site                0\n",
       "2.Shortage of laborers and equpment                                0\n",
       "15.Cash flow problem during construction                           0\n",
       "20.Errors and omission in design                                   0\n",
       "28.Poor communication between client, consultant and contractor    0\n",
       "31.Change schedule                                                 0\n",
       "33.Lowest bid price                                                0\n",
       "38.Scope and specification changes                                 0\n",
       "42.Weather conditions                                              0\n",
       "43.Accidents during construction                                   0\n",
       "dtype: int64"
      ]
     },
     "execution_count": 5,
     "metadata": {},
     "output_type": "execute_result"
    }
   ],
   "source": [
    "data = data.dropna()\n",
    "data.isnull().sum()"
   ]
  },
  {
   "cell_type": "code",
   "execution_count": 6,
   "id": "f0b84b75",
   "metadata": {
    "scrolled": true
   },
   "outputs": [
    {
     "data": {
      "text/plain": [
       "4    56\n",
       "2    26\n",
       "3    24\n",
       "1    23\n",
       "5    13\n",
       "Name: 1.Delay in delivering material to construction site, dtype: int64"
      ]
     },
     "execution_count": 6,
     "metadata": {},
     "output_type": "execute_result"
    }
   ],
   "source": [
    "data['1.Delay in delivering material to construction site'].value_counts()"
   ]
  },
  {
   "cell_type": "code",
   "execution_count": 7,
   "id": "db360a85",
   "metadata": {},
   "outputs": [],
   "source": [
    "# Separate features and target variable\n",
    "X = data.drop('1.Delay in delivering material to construction site', axis=1)\n",
    "y = data['1.Delay in delivering material to construction site']"
   ]
  },
  {
   "cell_type": "code",
   "execution_count": 8,
   "id": "8ed53700",
   "metadata": {},
   "outputs": [],
   "source": [
    "\n",
    "# Split the data into training and testing sets\n",
    "X_train, X_test, y_train, y_test = train_test_split(X, y, test_size=0.2, random_state=42)\n",
    "\n",
    "# Apply ADASYN for oversampling to handle class imbalance\n",
    "adasyn = ADASYN(random_state=42)\n",
    "X_train_resampled, y_train_resampled = adasyn.fit_resample(X_train, y_train)\n",
    "\n",
    "# Standardize features\n",
    "scaler = StandardScaler()\n",
    "X_train_resampled = scaler.fit_transform(X_train_resampled)\n",
    "X_test = scaler.transform(X_test)"
   ]
  },
  {
   "cell_type": "code",
   "execution_count": 9,
   "id": "4eda2c3f",
   "metadata": {
    "scrolled": true
   },
   "outputs": [
    {
     "data": {
      "text/plain": [
       "4    48\n",
       "5    48\n",
       "1    47\n",
       "3    46\n",
       "2    44\n",
       "Name: 1.Delay in delivering material to construction site, dtype: int64"
      ]
     },
     "execution_count": 9,
     "metadata": {},
     "output_type": "execute_result"
    }
   ],
   "source": [
    "y_train_resampled.value_counts()"
   ]
  },
  {
   "cell_type": "code",
   "execution_count": 10,
   "id": "21febc30",
   "metadata": {},
   "outputs": [
    {
     "data": {
      "text/plain": [
       "4    8\n",
       "1    8\n",
       "2    5\n",
       "3    4\n",
       "5    4\n",
       "Name: 1.Delay in delivering material to construction site, dtype: int64"
      ]
     },
     "execution_count": 10,
     "metadata": {},
     "output_type": "execute_result"
    }
   ],
   "source": [
    "y_test.value_counts()"
   ]
  },
  {
   "cell_type": "code",
   "execution_count": 11,
   "id": "f2333b1f",
   "metadata": {},
   "outputs": [
    {
     "name": "stdout",
     "output_type": "stream",
     "text": [
      "=========================================================================\n",
      "Random Forest Results\n",
      "=========================================================================\n",
      "Accuracy [ with RF]: 62.06896551724138 %\n",
      "Recall  [ with RF]: [87.5 40.  25.  62.5 75. ] %\n",
      "precision [ with RF]: [ 87.5         66.66666667 100.          50.          42.85714286] %\n"
     ]
    },
    {
     "data": {
      "image/png": "[encoded data removed]",
      "text/plain": [
       "<Figure size 500x500 with 2 Axes>"
      ]
     },
     "metadata": {},
     "output_type": "display_data"
    },
    {
     "name": "stdout",
     "output_type": "stream",
     "text": [
      "=========================================================================\n",
      "Logistic Regression Results\n",
      "=========================================================================\n",
      "Accuracy [ with LR]: 44.827586206896555 %\n",
      "Recall  [ with LR]: [75.  40.  25.  37.5 25. ] %\n",
      "precision [ with LR]: [ 75.         100.          25.          33.33333333  16.66666667] %\n"
     ]
    },
    {
     "data": {
      "image/png": "[encoded data removed]",
      "text/plain": [
       "<Figure size 500x500 with 2 Axes>"
      ]
     },
     "metadata": {},
     "output_type": "display_data"
    },
    {
     "name": "stdout",
     "output_type": "stream",
     "text": [
      "=========================================================================\n",
      "XGB Results\n",
      "=========================================================================\n",
      "Accuracy [ with XGB]: 68.96551724137932 %\n",
      "Recall  [ with XGB]: [87.5 40.  25.  87.5 75. ] %\n",
      "precision [ with XGB]: [100.          50.          25.          77.77777778  60.        ] %\n"
     ]
    },
    {
     "data": {
      "image/png": "[encoded data removed]",
      "text/plain": [
       "<Figure size 500x500 with 2 Axes>"
      ]
     },
     "metadata": {},
     "output_type": "display_data"
    }
   ],
   "source": [
    "# develop model\n",
    "\n",
    "# random forest\n",
    "\n",
    "from sklearn.ensemble import RandomForestClassifier\n",
    "\n",
    "rf_model = RandomForestClassifier()\n",
    "rf_model_gt = rf_model.fit(X_train_resampled, y_train_resampled)\n",
    "\n",
    "# Predict targets on the testing data\n",
    "RF_predictions_gt = rf_model_gt.predict(X_test)\n",
    "rf_acc_gt = accuracy_score(y_test, RF_predictions_gt)\n",
    "rf_recall_gt = recall_score(y_test, RF_predictions_gt ,average=None)\n",
    "rf_precision_gt = precision_score(y_test, RF_predictions_gt, average=None)\n",
    "# rf_mcc = matthews_corrcoef(y_test, RF_predictions_gt)\n",
    "\n",
    "print(\"=========================================================================\")\n",
    "print(\"Random Forest Results\")\n",
    "print(\"=========================================================================\")\n",
    "print(\"Accuracy [ with RF]: \" + str(rf_acc_gt * 100) + \" %\")\n",
    "print(\"Recall  [ with RF]: \" + str(rf_recall_gt * 100) + \" %\")\n",
    "print(\"precision [ with RF]: \" + str(rf_precision_gt * 100) + \" %\")\n",
    "\n",
    "\n",
    "\n",
    "cm = confusion_matrix(y_test, RF_predictions_gt, labels=rf_model_gt.classes_)\n",
    "disp = ConfusionMatrixDisplay(confusion_matrix=cm, display_labels=rf_model_gt.classes_)\n",
    "plt.rcParams[\"figure.figsize\"] = (5,5)\n",
    "disp.plot()\n",
    "plt.show()\n",
    "\n",
    "### LogisticRegression\n",
    "from sklearn.linear_model import LogisticRegression\n",
    "\n",
    "lr_model = LogisticRegression(max_iter = 3000)\n",
    "lr_model_gt = lr_model.fit(X_train_resampled, y_train_resampled)\n",
    "\n",
    "\n",
    "# Predict targets on the testing data\n",
    "LR_predictions_gt = lr_model_gt.predict(X_test)\n",
    "lr_acc_gt = accuracy_score(y_test, LR_predictions_gt)\n",
    "lr_recall_gt = recall_score(y_test, LR_predictions_gt, average=None)\n",
    "lr_precision_gt = precision_score(y_test, LR_predictions_gt, average=None)\n",
    "# lr_mcc = matthews_corrcoef(y_test, LR_predictions_gt)\n",
    "\n",
    "print(\"=========================================================================\")\n",
    "print(\"Logistic Regression Results\")\n",
    "print(\"=========================================================================\")\n",
    "print(\"Accuracy [ with LR]: \" + str(lr_acc_gt * 100) + \" %\")\n",
    "print(\"Recall  [ with LR]: \" + str(lr_recall_gt * 100) + \" %\")\n",
    "print(\"precision [ with LR]: \" + str(lr_precision_gt * 100) + \" %\")\n",
    "# print(\"MCC [ with LR]: \" + str(lr_mcc))\n",
    "\n",
    "cm = confusion_matrix(y_test, LR_predictions_gt, labels=lr_model_gt.classes_)\n",
    "disp = ConfusionMatrixDisplay(confusion_matrix=cm, display_labels=lr_model_gt.classes_)\n",
    "plt.rcParams[\"figure.figsize\"] = (5,5)\n",
    "disp.plot()\n",
    "plt.show()\n",
    "\n",
    "\n",
    "# XGBOOST\n",
    "\n",
    "from sklearn.ensemble import GradientBoostingClassifier\n",
    "\n",
    "xgb_model = GradientBoostingClassifier()\n",
    "xgb_model_gt = xgb_model.fit(X_train_resampled, y_train_resampled)\n",
    "\n",
    "# Predict targets on the testing data\n",
    "XGB_predictions_gt = xgb_model_gt.predict(X_test)\n",
    "xgb_acc_gt = accuracy_score(y_test, XGB_predictions_gt)\n",
    "xgb_recall_gt = recall_score(y_test, XGB_predictions_gt, average=None)\n",
    "xgb_precision_gt = precision_score(y_test, XGB_predictions_gt, average=None)\n",
    "\n",
    "\n",
    "print(\"=========================================================================\")\n",
    "print(\"XGB Results\")\n",
    "print(\"=========================================================================\")\n",
    "print(\"Accuracy [ with XGB]: \" + str(xgb_acc_gt * 100) + \" %\")\n",
    "print(\"Recall  [ with XGB]: \" + str(xgb_recall_gt * 100) + \" %\")\n",
    "print(\"precision [ with XGB]: \" + str(xgb_precision_gt * 100) + \" %\")\n",
    "# print(\"MCC [ with ET]: \" + str(xgb_mcc))\n",
    "\n",
    "cm = confusion_matrix(y_test, XGB_predictions_gt, labels=xgb_model_gt.classes_)\n",
    "disp = ConfusionMatrixDisplay(confusion_matrix=cm, display_labels=xgb_model_gt.classes_)\n",
    "plt.rcParams[\"figure.figsize\"] = (5,5)\n",
    "disp.plot()\n",
    "plt.show()"
   ]
  },
  {
   "cell_type": "code",
   "execution_count": 12,
   "id": "3aa73bbd",
   "metadata": {},
   "outputs": [
    {
     "data": {
      "text/plain": [
       "array([4])"
      ]
     },
     "execution_count": 12,
     "metadata": {},
     "output_type": "execute_result"
    }
   ],
   "source": [
    "# Make predictions\n",
    "bb= xgb_model_gt.predict([[1, 2, 2, 4, 1, 3, 1, 2, 4]])\n",
    "bb"
   ]
  },
  {
   "cell_type": "code",
   "execution_count": 13,
   "id": "abb1093a",
   "metadata": {},
   "outputs": [
    {
     "data": {
      "text/plain": [
       "array([3, 2, 4, 4, 1, 2, 3, 5, 4, 5, 5, 2, 1, 3, 2, 5, 4, 4, 4, 4, 5, 1,\n",
       "       1, 4, 1, 4, 1, 1, 3])"
      ]
     },
     "execution_count": 13,
     "metadata": {},
     "output_type": "execute_result"
    }
   ],
   "source": [
    "bb= xgb_model_gt.predict(X_test)\n",
    "bb"
   ]
  },
  {
   "cell_type": "code",
   "execution_count": 14,
   "id": "5f81260d",
   "metadata": {},
   "outputs": [],
   "source": [
    "# save the model\n",
    "with open('Construction_model.pkl', 'wb') as f:\n",
    "    pickle.dump(xgb_model_gt, f)"
   ]
  },
  {
   "cell_type": "code",
   "execution_count": 15,
   "id": "08b8a137",
   "metadata": {},
   "outputs": [],
   "source": [
    "with open('Construction_model.pkl', 'rb') as f:\n",
    "    ConstModel = pickle.load(f)"
   ]
  },
  {
   "cell_type": "code",
   "execution_count": 16,
   "id": "512791da",
   "metadata": {},
   "outputs": [
    {
     "data": {
      "text/plain": [
       "array([4])"
      ]
     },
     "execution_count": 16,
     "metadata": {},
     "output_type": "execute_result"
    }
   ],
   "source": [
    "ConstModel.predict([[1, 2, 2, 4, 1, 3, 1, 2, 4]])"
   ]
  },
  {
   "cell_type": "code",
   "execution_count": 17,
   "id": "4518be93",
   "metadata": {},
   "outputs": [],
   "source": [
    "\n",
    "\n",
    "# save the model\n",
    "with open('Construction.pkl', 'wb') as f:\n",
    "    pickle.dump(rf_model_gt, f)"
   ]
  },
  {
   "cell_type": "code",
   "execution_count": 18,
   "id": "9ae43d3e",
   "metadata": {},
   "outputs": [],
   "source": [
    "with open('Construction.pkl', 'rb') as f:\n",
    "    model = pickle.load(f)"
   ]
  },
  {
   "cell_type": "code",
   "execution_count": 19,
   "id": "944e3a59",
   "metadata": {},
   "outputs": [
    {
     "data": {
      "text/plain": [
       "array([4])"
      ]
     },
     "execution_count": 19,
     "metadata": {},
     "output_type": "execute_result"
    }
   ],
   "source": [
    "model.predict([[1, 2, 2, 4, 1, 3, 1, 2, 4]])"
   ]
  },
  {
   "cell_type": "code",
   "execution_count": null,
   "id": "965a0656",
   "metadata": {},
   "outputs": [],
   "source": []
  }
 ],
 "metadata": {
  "kernelspec": {
   "display_name": "Python 3 (ipykernel)",
   "language": "python",
   "name": "python3"
  },
  "language_info": {
   "codemirror_mode": {
    "name": "ipython",
    "version": 3
   },
   "file_extension": ".py",
   "mimetype": "text/x-python",
   "name": "python",
   "nbconvert_exporter": "python",
   "pygments_lexer": "ipython3",
   "version": "3.10.9"
  }
 },
 "nbformat": 4,
 "nbformat_minor": 5
}
